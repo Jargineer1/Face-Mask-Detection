{
 "cells": [
  {
   "attachments": {},
   "cell_type": "markdown",
   "id": "c90dc011",
   "metadata": {},
   "source": [
    "## Face Mask Detection\n",
    "By Jarlath Brennan and Osemudiamen Oriabure.\n",
    "\n",
    "Project for Image Processing Module IDSP1701.\n",
    "\n",
    "Submitted for Dr. Jane Courtney.\n"
   ]
  },
  {
   "cell_type": "markdown",
   "id": "21d0fe24",
   "metadata": {},
   "source": [
    "## How To Use The Code\n",
    "The user must then click 'Cell' and then click 'Run all'. The webcam will then pop up in a window and the detection will begin."
   ]
  },
  {
   "cell_type": "code",
   "execution_count": 8,
   "id": "4ffc54e9",
   "metadata": {},
   "outputs": [],
   "source": [
    "# Importing the necessary Library's.\n",
    "import cv2 \n",
    "import numpy as np \n",
    "\n",
    "# Initializing the Haar Cascades used throughout the code. Face and mouth detection cascades are used.\n",
    "face_detect = cv2.CascadeClassifier('haarcascade_frontalface_default.xml') \n",
    "mouth_detect = cv2.CascadeClassifier('haarcascade_mcs_mouth.xml')\n",
    "\n",
    "# Specifying the font used and its location on the window. \n",
    "font = cv2.FONT_HERSHEY_SIMPLEX \n",
    "# Font location will be in the upper left corner of the window.\n",
    "font_location = (30,30) \n",
    "\n",
    "# Inialization of the webcam as 'cap'.\n",
    "cap = cv2.VideoCapture(0)\n",
    "\n",
    "# Starts an infinite loop until broken with a user input.\n",
    "while True:\n",
    "    # Each frame captured from webcam stored in variable 'img'.\n",
    "    _, img = cap.read() \n",
    "    # Converts webcam image to grayscale to aid in cascade detections.\n",
    "    gray = cv2.cvtColor(img, cv2.COLOR_BGR2GRAY) \n",
    "    # Face is detected using the cascade specified and using this openCV function. Found that 1.05 and 10 gave the best detection will not many false detections.\n",
    "    faces = face_detect.detectMultiScale(img, 1.05, 10) \n",
    "\n",
    "    # If no face is detected the lenght of faces will equal to 0.\n",
    "    # Then outputs text in the font location on the window, notifying that there is no face detected.\n",
    "    if(len(faces) == 0): \n",
    "        #Text coulour is white, 1 in size, 3 in thickness\n",
    "        cv2.putText(img, \"No face found...\", font_location, font, 1, (255,255,255), 3) \n",
    "    \n",
    "    # Else if there is a face detected it will not equal to zero so execute the following code.\n",
    "    else:\n",
    "        # Gets x,y location of face and height and width of the detected face.\n",
    "        for (x,y,w,h) in faces: \n",
    "            # Draws a green box, 3 in thickness around the face.\n",
    "            cv2.rectangle(img, (x, y), (x+w, y+h), (0,255,0), 3)\n",
    "            # Saves the image within this rectangle as a region of interest.\n",
    "            roi = img[y:y+h, x:x +w] \n",
    "            # Gets the height, width and depth of this ROI, but we will only be using the height and width.\n",
    "            h1, w1, d1 = roi.shape\n",
    "            # Crops the bottom half of the face so that just the mouth is saved as an image. This helps with the mouth detection box later.\n",
    "            CroppedBottomHalfFace = roi[int(h1/2):h1, 0:w1] \n",
    "           \n",
    "           \n",
    "            # Mouth is detected using the cascade specified and is detected using this openCV function. Found that 1.4 and 10 gave the best detection will not many false detections.\n",
    "            mouths = mouth_detect.detectMultiScale(img, 1.4, 10)\n",
    "        \n",
    "        # While a face is detected check to me if a mouth is detected.\n",
    "        # If a mouth is not detected mouths will ouput a 0.\n",
    "        # Outputs green text in the font location notfying the user that a face covering was detected.\n",
    "        if(len(mouths) == 0):\n",
    "            cv2.putText(img, \"Face Covering Detected - Thank you!\", font_location, font, 1, (0,255,0), 3)\n",
    "        # Or else if a mouth is detected output the following code\n",
    "        else:\n",
    "            # Gets x,y location of the mouth and height and width of the detected mouth.\n",
    "            for (mx,my,mw,mh) in mouths:\n",
    "                # Check if the mouth if detected within the region of interest.\n",
    "                # If the mouth is detected within the reason of interest then output the following code.\n",
    "                if((y+int(h1/2)) < my < y + h):\n",
    "                    # Output red text in the font location notifying the user to wear a face mask.\n",
    "                    cv2.putText(img, \"Please wear a Face Mask!\", font_location, font, 1, (0,0,255), 3)\n",
    "                    # Output a red rectangle around the mouth of the user.\n",
    "                    cv2.rectangle(img, (mx, my), (mx+mw, my+mh), (0,0,255), 3)\n",
    "                    break\n",
    "    # Constantly outputs the webcame capture in a window while in the loop.\n",
    "    cv2.imshow('Mask Detection', img)\n",
    "    # When the escape key is pressed the loop is broken.\n",
    "    if cv2.waitKey(2) ==27:\n",
    "        break\n",
    "\n",
    "# Release video capture and destroys all windows.\n",
    "cap.release()\n",
    "cv2.destroyAllWindows()"
   ]
  },
  {
   "cell_type": "code",
   "execution_count": null,
   "id": "7634efc7",
   "metadata": {},
   "outputs": [],
   "source": []
  }
 ],
 "metadata": {
  "kernelspec": {
   "display_name": "Python 3",
   "language": "python",
   "name": "python3"
  },
  "language_info": {
   "codemirror_mode": {
    "name": "ipython",
    "version": 3
   },
   "file_extension": ".py",
   "mimetype": "text/x-python",
   "name": "python",
   "nbconvert_exporter": "python",
   "pygments_lexer": "ipython3",
   "version": "3.8.8"
  }
 },
 "nbformat": 4,
 "nbformat_minor": 5
}
